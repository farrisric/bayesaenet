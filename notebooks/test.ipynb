{
 "cells": [
  {
   "cell_type": "code",
   "execution_count": 2,
   "metadata": {},
   "outputs": [],
   "source": []
  },
  {
   "cell_type": "code",
   "execution_count": 5,
   "metadata": {},
   "outputs": [
    {
     "ename": "ModuleNotFoundError",
     "evalue": "No module named 'src'",
     "output_type": "error",
     "traceback": [
      "\u001b[0;31m---------------------------------------------------------------------------\u001b[0m",
      "\u001b[0;31mModuleNotFoundError\u001b[0m                       Traceback (most recent call last)",
      "Cell \u001b[0;32mIn[5], line 1\u001b[0m\n\u001b[0;32m----> 1\u001b[0m \u001b[38;5;28;01mfrom\u001b[39;00m \u001b[38;5;21;01msrc\u001b[39;00m\u001b[38;5;21;01m.\u001b[39;00m\u001b[38;5;21;01mdatamodule\u001b[39;00m\u001b[38;5;21;01m.\u001b[39;00m\u001b[38;5;21;01maenet_datamodule\u001b[39;00m \u001b[38;5;28;01mimport\u001b[39;00m AenetDataModule\n",
      "\u001b[0;31mModuleNotFoundError\u001b[0m: No module named 'src'"
     ]
    }
   ],
   "source": []
  },
  {
   "cell_type": "code",
   "execution_count": 8,
   "metadata": {},
   "outputs": [
    {
     "name": "stderr",
     "output_type": "stream",
     "text": [
      "/home/riccardo/anaconda3/envs/bayesian/lib/python3.12/site-packages/torch/utils/data/dataset.py:449: UserWarning: Length of split at index 0 is 0. This might result in an empty dataset.\n",
      "  warnings.warn(f\"Length of split at index {i} is 0. \"\n",
      "/home/riccardo/anaconda3/envs/bayesian/lib/python3.12/site-packages/torch/utils/data/dataset.py:449: UserWarning: Length of split at index 1 is 0. This might result in an empty dataset.\n",
      "  warnings.warn(f\"Length of split at index {i} is 0. \"\n",
      "/home/riccardo/anaconda3/envs/bayesian/lib/python3.12/site-packages/torch/utils/data/dataset.py:449: UserWarning: Length of split at index 2 is 0. This might result in an empty dataset.\n",
      "  warnings.warn(f\"Length of split at index {i} is 0. \"\n"
     ]
    }
   ],
   "source": [
    "import sys\n",
    "sys.path.append('../')\n",
    "from src.datamodule.aenet_datamodule import AenetDataModule\n",
    "datamodele = AenetDataModule(\n",
    "    data_dir='../data/IrO/train.in',\n",
    "    batch_size=100,\n",
    "    test_split=0.1,\n",
    "    valid_split=0.1\n",
    "    )"
   ]
  },
  {
   "cell_type": "code",
   "execution_count": 10,
   "metadata": {},
   "outputs": [],
   "source": [
    "energies = []\n",
    "for x in datamodele.train_dataloader():\n",
    "    for ene in x[11]:\n",
    "        energies.append(ene.item())"
   ]
  },
  {
   "cell_type": "code",
   "execution_count": 11,
   "metadata": {},
   "outputs": [
    {
     "data": {
      "text/plain": [
       "10356"
      ]
     },
     "execution_count": 11,
     "metadata": {},
     "output_type": "execute_result"
    }
   ],
   "source": [
    "len(energies)"
   ]
  },
  {
   "cell_type": "code",
   "execution_count": 12,
   "metadata": {},
   "outputs": [
    {
     "data": {
      "text/plain": [
       "(array([ 17.,  21.,  27.,  35.,  41.,  47.,  39., 238., 108., 120.,  88.,\n",
       "         92., 100., 100., 101.,  99.,  96.,  95., 103.,  95., 105., 109.,\n",
       "        105., 111., 116., 127., 148., 140., 148., 134., 133., 142., 135.,\n",
       "        115., 142., 187., 209., 560., 441., 387., 549., 591., 701., 612.,\n",
       "        462., 386., 338., 251., 213., 165., 111.,  89.,  77.,  57.,  49.,\n",
       "         43.,  36.,  30.,  26.,  23.,  18.,  31.,  16.,  13.,  11.,  13.,\n",
       "         12.,  14.,   8.,   3.,   9.,   5.,   3.,   5.,   5.,   3.,   2.,\n",
       "          4.,   6.,   2.,   0.,   2.,   0.,   1.,   1.,   0.,   1.,   0.,\n",
       "          0.,   0.,   0.,   0.,   1.,   1.,   0.,   0.,   0.,   0.,   0.,\n",
       "          1.]),\n",
       " array([-10.06982405,  -9.85320235,  -9.63658064,  -9.41995894,\n",
       "         -9.20333724,  -8.98671553,  -8.77009383,  -8.55347212,\n",
       "         -8.33685042,  -8.12022872,  -7.90360701,  -7.68698531,\n",
       "         -7.47036361,  -7.2537419 ,  -7.0371202 ,  -6.82049849,\n",
       "         -6.60387679,  -6.38725509,  -6.17063338,  -5.95401168,\n",
       "         -5.73738998,  -5.52076827,  -5.30414657,  -5.08752486,\n",
       "         -4.87090316,  -4.65428146,  -4.43765975,  -4.22103805,\n",
       "         -4.00441635,  -3.78779464,  -3.57117294,  -3.35455123,\n",
       "         -3.13792953,  -2.92130783,  -2.70468612,  -2.48806442,\n",
       "         -2.27144272,  -2.05482101,  -1.83819931,  -1.6215776 ,\n",
       "         -1.4049559 ,  -1.1883342 ,  -0.97171249,  -0.75509079,\n",
       "         -0.53846909,  -0.32184738,  -0.10522568,   0.11139603,\n",
       "          0.32801773,   0.54463943,   0.76126114,   0.97788284,\n",
       "          1.19450455,   1.41112625,   1.62774795,   1.84436966,\n",
       "          2.06099136,   2.27761306,   2.49423477,   2.71085647,\n",
       "          2.92747818,   3.14409988,   3.36072158,   3.57734329,\n",
       "          3.79396499,   4.01058669,   4.2272084 ,   4.4438301 ,\n",
       "          4.66045181,   4.87707351,   5.09369521,   5.31031692,\n",
       "          5.52693862,   5.74356032,   5.96018203,   6.17680373,\n",
       "          6.39342544,   6.61004714,   6.82666884,   7.04329055,\n",
       "          7.25991225,   7.47653395,   7.69315566,   7.90977736,\n",
       "          8.12639907,   8.34302077,   8.55964247,   8.77626418,\n",
       "          8.99288588,   9.20950758,   9.42612929,   9.64275099,\n",
       "          9.8593727 ,  10.0759944 ,  10.2926161 ,  10.50923781,\n",
       "         10.72585951,  10.94248121,  11.15910292,  11.37572462,\n",
       "         11.59234633]),\n",
       " <BarContainer object of 100 artists>)"
      ]
     },
     "execution_count": 12,
     "metadata": {},
     "output_type": "execute_result"
    },
    {
     "data": {
      "image/png": "[encoded data removed]",
      "text/plain": [
       "<Figure size 640x480 with 1 Axes>"
      ]
     },
     "metadata": {},
     "output_type": "display_data"
    }
   ],
   "source": [
    "import matplotlib.pyplot as plt\n",
    "\n",
    "plt.hist(energies, bins=100)"
   ]
  },
  {
   "cell_type": "code",
   "execution_count": null,
   "metadata": {},
   "outputs": [],
   "source": []
  }
 ],
 "metadata": {
  "kernelspec": {
   "display_name": "bayesian",
   "language": "python",
   "name": "python3"
  },
  "language_info": {
   "codemirror_mode": {
    "name": "ipython",
    "version": 3
   },
   "file_extension": ".py",
   "mimetype": "text/x-python",
   "name": "python",
   "nbconvert_exporter": "python",
   "pygments_lexer": "ipython3",
   "version": "3.12.2"
  }
 },
 "nbformat": 4,
 "nbformat_minor": 2
}
