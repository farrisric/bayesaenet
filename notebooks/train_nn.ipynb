{
 "cells": [
  {
   "cell_type": "code",
   "execution_count": 1,
   "metadata": {},
   "outputs": [],
   "source": [
    "%load_ext autoreload\n",
    "\n",
    "%autoreload 2"
   ]
  },
  {
   "cell_type": "code",
   "execution_count": 2,
   "metadata": {},
   "outputs": [
    {
     "name": "stderr",
     "output_type": "stream",
     "text": [
      "/home/riccardo/anaconda3/envs/bayesian/lib/python3.12/site-packages/tqdm/auto.py:21: TqdmWarning: IProgress not found. Please update jupyter and ipywidgets. See https://ipywidgets.readthedocs.io/en/stable/user_install.html\n",
      "  from .autonotebook import tqdm as notebook_tqdm\n"
     ]
    }
   ],
   "source": [
    "import sys\n",
    "sys.path.append('../')\n",
    "\n",
    "from ase.db import connect\n",
    "import pyro\n",
    "from src.models.bnn import BNN, NN\n",
    "from src.models.nets.network import NetAtom\n",
    "import torch\n",
    "import pytorch_lightning as L\n",
    "import torch.utils.data as data\n",
    "import numpy as np\n",
    "from pytorch_lightning.callbacks.early_stopping import EarlyStopping\n",
    "\n",
    "from optuna import Study\n",
    "import optuna\n",
    "from optuna.trial import Trial\n",
    "\n",
    "from src.datamodule.aenet_datamodule import AenetDataModule"
   ]
  },
  {
   "cell_type": "code",
   "execution_count": 3,
   "metadata": {},
   "outputs": [
    {
     "name": "stderr",
     "output_type": "stream",
     "text": [
      "/home/riccardo/anaconda3/envs/bayesian/lib/python3.12/site-packages/torch/utils/data/dataset.py:449: UserWarning: Length of split at index 0 is 0. This might result in an empty dataset.\n",
      "  warnings.warn(f\"Length of split at index {i} is 0. \"\n",
      "/home/riccardo/anaconda3/envs/bayesian/lib/python3.12/site-packages/torch/utils/data/dataset.py:449: UserWarning: Length of split at index 1 is 0. This might result in an empty dataset.\n",
      "  warnings.warn(f\"Length of split at index {i} is 0. \"\n",
      "/home/riccardo/anaconda3/envs/bayesian/lib/python3.12/site-packages/torch/utils/data/dataset.py:449: UserWarning: Length of split at index 2 is 0. This might result in an empty dataset.\n",
      "  warnings.warn(f\"Length of split at index {i} is 0. \"\n"
     ]
    }
   ],
   "source": [
    "datamodele = AenetDataModule(data_dir='../data/H2O/train.in', batch_size=200, test_split=0.1, valid_split=0.1)\n",
    "net = NetAtom(datamodele.input_size, datamodele.hidden_size, datamodele.species, datamodele.active_names, datamodele.alpha,'cpu')"
   ]
  },
  {
   "cell_type": "code",
   "execution_count": 5,
   "metadata": {},
   "outputs": [],
   "source": [
    "from torch.optim import Adam\n",
    "\n",
    "model = NN(net, Adam)"
   ]
  },
  {
   "cell_type": "code",
   "execution_count": 17,
   "metadata": {},
   "outputs": [
    {
     "name": "stderr",
     "output_type": "stream",
     "text": [
      "GPU available: False, used: False\n",
      "TPU available: False, using: 0 TPU cores\n",
      "IPU available: False, using: 0 IPUs\n",
      "HPU available: False, using: 0 HPUs\n",
      "\n",
      "  | Name | Type    | Params\n",
      "---------------------------------\n",
      "0 | net  | NetAtom | 2.1 K \n",
      "---------------------------------\n",
      "2.1 K     Trainable params\n",
      "0         Non-trainable params\n",
      "2.1 K     Total params\n",
      "0.008     Total estimated model params size (MB)\n"
     ]
    },
    {
     "name": "stdout",
     "output_type": "stream",
     "text": [
      "Epoch 84:  31%|███       | 20/65 [00:00<00:00, 86.73it/s, v_num=5]         {'mse/val': tensor(0.1579), 'mse/train': tensor(0.1393)}\n"
     ]
    },
    {
     "name": "stderr",
     "output_type": "stream",
     "text": [
      "/home/riccardo/anaconda3/envs/bayesian/lib/python3.12/site-packages/pytorch_lightning/trainer/call.py:54: Detected KeyboardInterrupt, attempting graceful shutdown...\n"
     ]
    }
   ],
   "source": [
    "trainer = L.Trainer(max_epochs = 100)\n",
    "trainer.fit(model=model, datamodule=datamodele)\n",
    "print(trainer.callback_metrics)"
   ]
  },
  {
   "cell_type": "code",
   "execution_count": 18,
   "metadata": {},
   "outputs": [
    {
     "name": "stderr",
     "output_type": "stream",
     "text": [
      "Restoring states from the checkpoint path at /home/riccardo/bin/repos/aenet-bnn/notebooks/lightning_logs/version_5/checkpoints/epoch=83-step=5460.ckpt\n",
      "Loaded model weights from the checkpoint at /home/riccardo/bin/repos/aenet-bnn/notebooks/lightning_logs/version_5/checkpoints/epoch=83-step=5460.ckpt\n"
     ]
    },
    {
     "name": "stdout",
     "output_type": "stream",
     "text": [
      "Testing DataLoader 0: 100%|██████████| 4/4 [00:00<00:00, 43.78it/s]\n"
     ]
    },
    {
     "data": {
      "text/html": [
       "<pre style=\"white-space:pre;overflow-x:auto;line-height:normal;font-family:Menlo,'DejaVu Sans Mono',consolas,'Courier New',monospace\">┏━━━━━━━━━━━━━━━━━━━━━━━━━━━┳━━━━━━━━━━━━━━━━━━━━━━━━━━━┓\n",
       "┃<span style=\"font-weight: bold\">        Test metric        </span>┃<span style=\"font-weight: bold\">       DataLoader 0        </span>┃\n",
       "┡━━━━━━━━━━━━━━━━━━━━━━━━━━━╇━━━━━━━━━━━━━━━━━━━━━━━━━━━┩\n",
       "│<span style=\"color: #008080; text-decoration-color: #008080\">         mse/test          </span>│<span style=\"color: #800080; text-decoration-color: #800080\">    0.16316314041614532    </span>│\n",
       "└───────────────────────────┴───────────────────────────┘\n",
       "</pre>\n"
      ],
      "text/plain": [
       "┏━━━━━━━━━━━━━━━━━━━━━━━━━━━┳━━━━━━━━━━━━━━━━━━━━━━━━━━━┓\n",
       "┃\u001b[1m \u001b[0m\u001b[1m       Test metric       \u001b[0m\u001b[1m \u001b[0m┃\u001b[1m \u001b[0m\u001b[1m      DataLoader 0       \u001b[0m\u001b[1m \u001b[0m┃\n",
       "┡━━━━━━━━━━━━━━━━━━━━━━━━━━━╇━━━━━━━━━━━━━━━━━━━━━━━━━━━┩\n",
       "│\u001b[36m \u001b[0m\u001b[36m        mse/test         \u001b[0m\u001b[36m \u001b[0m│\u001b[35m \u001b[0m\u001b[35m   0.16316314041614532   \u001b[0m\u001b[35m \u001b[0m│\n",
       "└───────────────────────────┴───────────────────────────┘\n"
      ]
     },
     "metadata": {},
     "output_type": "display_data"
    },
    {
     "data": {
      "text/plain": [
       "[{'mse/test': 0.16316314041614532}]"
      ]
     },
     "execution_count": 18,
     "metadata": {},
     "output_type": "execute_result"
    }
   ],
   "source": [
    "trainer.test(model=model, datamodule=datamodele, ckpt_path=trainer.checkpoint_callback.best_model_path)"
   ]
  },
  {
   "cell_type": "code",
   "execution_count": 32,
   "metadata": {},
   "outputs": [
    {
     "name": "stdout",
     "output_type": "stream",
     "text": [
      "0.039508763455474494 0.039508763455474494 0.17950837482477322\n"
     ]
    }
   ],
   "source": [
    "batch = datamodele.test_dataloader()[0]\n",
    "\n",
    "l2_E = torch.zeros(1, device=net.device)\n",
    "E_error = 0.0\n",
    "N_data2_E = 0\n",
    "N_data_energy = 0\n",
    "\n",
    "grp_descrp, grp_energy, logic_reduce, grp_N_atom = batch[10], batch[11], batch[12], batch[14]\n",
    "l2_E, N_data2_E = model.net.get_loss_RMSE( grp_descrp, grp_energy, logic_reduce, grp_N_atom)\n",
    "\n",
    "N_data_energy += N_data2_E\n",
    "N_data_E_tot = N_data2_E\n",
    "loss_tot = (1.0-net.alpha)*torch.sqrt((l2_E)/N_data_E_tot)\n",
    "E_error += l2_E.item()\n",
    "E_error = np.sqrt(E_error/N_data_energy)\n",
    "train_error = (1.0-net.alpha.item())*E_error\n",
    "\n",
    "print(E_error, train_error, l2_E.item())"
   ]
  },
  {
   "cell_type": "code",
   "execution_count": 33,
   "metadata": {},
   "outputs": [
    {
     "data": {
      "text/plain": [
       "tensor([192, 240, 192, 192, 192, 192, 192, 192, 192, 192, 192, 192, 192, 192,\n",
       "        192, 192, 240, 192, 192, 192, 192, 192, 192, 192, 192, 192, 192, 192,\n",
       "        192, 192, 192, 192, 192, 192, 192, 192, 192, 192, 192, 192, 192, 192,\n",
       "        192, 192, 192, 192, 192, 192, 192, 192, 192, 192, 192, 192, 192, 192,\n",
       "        192, 192, 192, 192, 192, 192, 192, 192, 192, 192, 192, 192, 192, 192,\n",
       "        192, 192, 192, 192, 192, 192, 192, 192, 192, 192, 192, 240, 192, 192,\n",
       "        192, 192, 192, 192, 192, 192, 192, 192, 192, 192, 192, 192, 192, 192,\n",
       "        192, 192, 192, 192, 192, 192, 192, 192, 192, 192, 240, 240, 192, 192,\n",
       "        192, 192, 192])"
      ]
     },
     "execution_count": 33,
     "metadata": {},
     "output_type": "execute_result"
    }
   ],
   "source": [
    "grp_N_atom"
   ]
  },
  {
   "cell_type": "code",
   "execution_count": 52,
   "metadata": {},
   "outputs": [
    {
     "data": {
      "text/plain": [
       "tensor(0.1795, dtype=torch.float64, grad_fn=<SumBackward0>)"
      ]
     },
     "execution_count": 52,
     "metadata": {},
     "output_type": "execute_result"
    }
   ],
   "source": [
    "differences = (model.net.forward(grp_descrp, logic_reduce) - grp_energy)\n",
    "l1 = torch.sum( (differences/grp_N_atom)**2 )\n",
    "l1"
   ]
  },
  {
   "cell_type": "code",
   "execution_count": 44,
   "metadata": {},
   "outputs": [
    {
     "data": {
      "text/plain": [
       "(tensor(690.6847, dtype=torch.float64), tensor(6738.9732, dtype=torch.float64))"
      ]
     },
     "execution_count": 44,
     "metadata": {},
     "output_type": "execute_result"
    }
   ],
   "source": [
    "running_mae, running_mae = 0,0\n",
    "error = torch.abs(model.net.forward(grp_descrp, logic_reduce) - grp_energy).sum().data\n",
    "squared_error = ((model.net.forward(grp_descrp, logic_reduce) - grp_energy)*(model.net.forward(grp_descrp, logic_reduce) - grp_energy)).sum().data\n",
    "running_mae += error\n",
    "running_mse += squared_error\n",
    "\n",
    "rmse = math.sqrt(running_mse/len(loader_test))\n",
    "mae = running_mae/len(loader_test)"
   ]
  },
  {
   "cell_type": "code",
   "execution_count": 47,
   "metadata": {},
   "outputs": [
    {
     "data": {
      "text/plain": [
       "tensor(58.5998, dtype=torch.float64, grad_fn=<MseLossBackward0>)"
      ]
     },
     "execution_count": 47,
     "metadata": {},
     "output_type": "execute_result"
    }
   ],
   "source": [
    "import torch.nn.functional as F\n",
    "\n",
    "\n",
    "pred = model.net.forward(grp_descrp, logic_reduce) \n",
    "target = grp_energy\n",
    "F.(pred, target)"
   ]
  },
  {
   "cell_type": "code",
   "execution_count": null,
   "metadata": {},
   "outputs": [],
   "source": []
  }
 ],
 "metadata": {
  "kernelspec": {
   "display_name": "bayesian",
   "language": "python",
   "name": "python3"
  },
  "language_info": {
   "codemirror_mode": {
    "name": "ipython",
    "version": 3
   },
   "file_extension": ".py",
   "mimetype": "text/x-python",
   "name": "python",
   "nbconvert_exporter": "python",
   "pygments_lexer": "ipython3",
   "version": "3.12.2"
  }
 },
 "nbformat": 4,
 "nbformat_minor": 2
}
