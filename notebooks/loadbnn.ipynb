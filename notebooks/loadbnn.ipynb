{
 "cells": [
  {
   "cell_type": "code",
   "execution_count": 1,
   "metadata": {},
   "outputs": [
    {
     "name": "stderr",
     "output_type": "stream",
     "text": [
      "/home/riccardo/anaconda3/envs/bayesian/lib/python3.12/site-packages/tqdm/auto.py:21: TqdmWarning: IProgress not found. Please update jupyter and ipywidgets. See https://ipywidgets.readthedocs.io/en/stable/user_install.html\n",
      "  from .autonotebook import tqdm as notebook_tqdm\n"
     ]
    }
   ],
   "source": [
    "import sys\n",
    "sys.path.append('../')\n",
    "\n",
    "from src.datamodule.aenet_datamodule import AenetDataModule\n",
    "from src.models.bnn import BNN, NN\n",
    "from src.models.nets.network import NetAtom\n",
    "\n",
    "ckpt_path = \"/home/riccardo/bin/repos/aenet-bnn/src/results/PdO/pretrained/4/checkpoints/pretrained.ckpt\"\n",
    "\n",
    "datamodele = AenetDataModule(\n",
    "    data_dir='../data/PdO/train.in',\n",
    "    batch_size=200,\n",
    "    test_split=0.1,\n",
    "    valid_split=0.1\n",
    "    )\n",
    "\n",
    "net = NetAtom(\n",
    "    datamodele.input_size, \n",
    "    datamodele.hidden_size, \n",
    "    datamodele.species, \n",
    "    datamodele.active_names, \n",
    "    datamodele.alpha,\n",
    "    'cpu'\n",
    ")"
   ]
  },
  {
   "cell_type": "code",
   "execution_count": 2,
   "metadata": {},
   "outputs": [],
   "source": [
    "from torch.optim import Adam\n",
    "model_kwargs = {'net': net,\n",
    "        'lr': 0.00025616626859234823,\n",
    "        'pretrain_epochs': 5,\n",
    "        'mc_samples_train': 1,\n",
    "        'mc_samples_eval': 20, \n",
    "        'dataset_size': datamodele.train_size, \n",
    "        'fit_context': 'lrt', \n",
    "        'prior_loc': 0, \n",
    "        'prior_scale': 0.3726682199695302, \n",
    "        'guide': 'normal', \n",
    "        'q_scale': 0.00127000766093029489207278289472795143,\n",
    "        'obs_scale' :  0.8115512648735741}\n",
    "model = BNN(**model_kwargs)"
   ]
  },
  {
   "cell_type": "code",
   "execution_count": 3,
   "metadata": {},
   "outputs": [],
   "source": [
    "net = NN.load_from_checkpoint(\n",
    "                ckpt_path,\n",
    "                net=model.net,\n",
    "            ).net\n",
    "model.net = net"
   ]
  },
  {
   "cell_type": "code",
   "execution_count": 4,
   "metadata": {},
   "outputs": [
    {
     "name": "stderr",
     "output_type": "stream",
     "text": [
      "GPU available: False, used: False\n",
      "TPU available: False, using: 0 TPU cores\n",
      "IPU available: False, using: 0 IPUs\n",
      "HPU available: False, using: 0 HPUs\n",
      "/home/riccardo/anaconda3/envs/bayesian/lib/python3.12/site-packages/torch/utils/data/dataset.py:449: UserWarning: Length of split at index 0 is 0. This might result in an empty dataset.\n",
      "  warnings.warn(f\"Length of split at index {i} is 0. \"\n",
      "/home/riccardo/anaconda3/envs/bayesian/lib/python3.12/site-packages/torch/utils/data/dataset.py:449: UserWarning: Length of split at index 1 is 0. This might result in an empty dataset.\n",
      "  warnings.warn(f\"Length of split at index {i} is 0. \"\n",
      "/home/riccardo/anaconda3/envs/bayesian/lib/python3.12/site-packages/torch/utils/data/dataset.py:449: UserWarning: Length of split at index 2 is 0. This might result in an empty dataset.\n",
      "  warnings.warn(f\"Length of split at index {i} is 0. \"\n",
      "/home/riccardo/anaconda3/envs/bayesian/lib/python3.12/site-packages/pytorch_lightning/core/optimizer.py:181: `LightningModule.configure_optimizers` returned `None`, this fit will run with no optimizer\n",
      "\n",
      "  | Name | Type    | Params\n",
      "---------------------------------\n",
      "0 | net  | NetAtom | 1.9 K \n",
      "---------------------------------\n",
      "1.9 K     Trainable params\n",
      "0         Non-trainable params\n",
      "1.9 K     Total params\n",
      "0.008     Total estimated model params size (MB)\n"
     ]
    },
    {
     "name": "stdout",
     "output_type": "stream",
     "text": [
      "Epoch 0:   8%|▊         | 5/61 [00:00<00:02, 20.65it/s, v_num=46]          "
     ]
    },
    {
     "name": "stderr",
     "output_type": "stream",
     "text": [
      "/home/riccardo/anaconda3/envs/bayesian/lib/python3.12/site-packages/tyxe/likelihoods.py:260: UserWarning: var(): degrees of freedom is <= 0. Correction should be strictly less than the reduction factor (input numel divided by output numel). (Triggered internally at ../aten/src/ATen/native/ReduceOps.cpp:1760.)\n",
      "  scale = predictions.var(dim).add(self.scale ** 2).sqrt()\n",
      "/home/riccardo/anaconda3/envs/bayesian/lib/python3.12/site-packages/pytorch_lightning/loops/optimization/automatic.py:132: `training_step` returned `None`. If this was on purpose, ignore this warning...\n"
     ]
    },
    {
     "name": "stdout",
     "output_type": "stream",
     "text": [
      "Epoch 54:   5%|▍         | 3/61 [00:01<00:29,  1.96it/s, v_num=46] "
     ]
    }
   ],
   "source": [
    "import pytorch_lightning as L\n",
    "\n",
    "trainer = L.Trainer(max_epochs = 500)\n",
    "trainer.fit(model=model, datamodule=datamodele)"
   ]
  },
  {
   "cell_type": "code",
   "execution_count": null,
   "metadata": {},
   "outputs": [],
   "source": []
  }
 ],
 "metadata": {
  "kernelspec": {
   "display_name": "bayesian",
   "language": "python",
   "name": "python3"
  },
  "language_info": {
   "codemirror_mode": {
    "name": "ipython",
    "version": 3
   },
   "file_extension": ".py",
   "mimetype": "text/x-python",
   "name": "python",
   "nbconvert_exporter": "python",
   "pygments_lexer": "ipython3",
   "version": "3.12.2"
  }
 },
 "nbformat": 4,
 "nbformat_minor": 2
}
