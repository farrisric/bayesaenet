{
 "cells": [
  {
   "cell_type": "code",
   "execution_count": 1,
   "metadata": {},
   "outputs": [
    {
     "name": "stderr",
     "output_type": "stream",
     "text": [
      "/home/riccardo/anaconda3/envs/bayesian/lib/python3.12/site-packages/tqdm/auto.py:21: TqdmWarning: IProgress not found. Please update jupyter and ipywidgets. See https://ipywidgets.readthedocs.io/en/stable/user_install.html\n",
      "  from .autonotebook import tqdm as notebook_tqdm\n"
     ]
    }
   ],
   "source": [
    "from ase.db import connect\n",
    "import pyro\n",
    "from bnn import BNN\n",
    "import torch\n",
    "import lightning as L\n",
    "import torch.utils.data as data\n",
    "import numpy as np\n",
    "from lightning.pytorch.callbacks.early_stopping import EarlyStopping\n",
    "\n",
    "from optuna import Study\n",
    "import optuna\n",
    "from optuna.trial import Trial\n",
    "\n",
    "from datamodel import AenetDataModule"
   ]
  },
  {
   "cell_type": "code",
   "execution_count": 2,
   "metadata": {},
   "outputs": [],
   "source": [
    "datamodele = AenetDataModule('/home/riccardo/bin/repos/aenet-bayesian/examples/liquid_water/train.in')\n",
    "net = datamodele.get_model()\n",
    "model_kwargs = {'net': net,\n",
    "        'lr': 0.00055,\n",
    "        'pretrain_epochs': 0,\n",
    "        'mc_samples_train': 1,\n",
    "        'mc_samples_eval': 20, \n",
    "        'dataset_size': datamodele.dataset_size, \n",
    "        'fit_context': 'lrt', \n",
    "        'prior_loc': 1, \n",
    "        'prior_scale': 1, \n",
    "        'guide': 'normal', \n",
    "        'q_scale': 1.,\n",
    "        'obs_scale' : 10.}"
   ]
  },
  {
   "cell_type": "code",
   "execution_count": 3,
   "metadata": {},
   "outputs": [
    {
     "data": {
      "text/plain": [
       "8270"
      ]
     },
     "execution_count": 3,
     "metadata": {},
     "output_type": "execute_result"
    }
   ],
   "source": [
    "datamodele.dataset_size"
   ]
  },
  {
   "cell_type": "code",
   "execution_count": 4,
   "metadata": {},
   "outputs": [],
   "source": [
    "early_stopping = EarlyStopping(monitor='elbo/val', min_delta = 0., # minimum change in the monitored quantity to qualify as an improvement\n",
    "  patience= 3, # number of checks with no improvement after which training will be stopped\n",
    "  verbose= False, # verbosity mode\n",
    "  mode= \"min\", # \"max\" means higher metric value is better, can be also \"min\"\n",
    "  strict= True, # whether to crash the training if monitor is not found in the validation metrics\n",
    "  check_finite= True,) # when set True, stops training when the monitor becomes NaN or infinite\n",
    "#   'stopping_threshold'= null, # stop training immediately once the monitored quantity reaches this threshold\n",
    "#   'divergence_threshold'= null, # stop training as soon as the monitored quantity becomes worse than this threshold\n",
    "#   'check_on_train_epoch_end'= null,)\n",
    "\n",
    "early_stopping = EarlyStopping(\n",
    "    monitor='elbo/val',\n",
    "    patience=100,\n",
    "    mode='min' )"
   ]
  },
  {
   "cell_type": "code",
   "execution_count": 5,
   "metadata": {},
   "outputs": [
    {
     "name": "stderr",
     "output_type": "stream",
     "text": [
      "[I 2024-03-04 14:24:46,926] A new study created in RDB with name: bnn_hyperparams\n",
      "GPU available: False, used: False\n",
      "TPU available: False, using: 0 TPU cores\n",
      "IPU available: False, using: 0 IPUs\n",
      "HPU available: False, using: 0 HPUs\n",
      "Missing logger folder: ../examples/liquid_water/lightning_logs\n",
      "/home/riccardo/anaconda3/envs/bayesian/lib/python3.12/site-packages/lightning/pytorch/core/optimizer.py:181: `LightningModule.configure_optimizers` returned `None`, this fit will run with no optimizer\n",
      "\n",
      "  | Name | Type    | Params\n",
      "---------------------------------\n",
      "0 | net  | NetAtom | 2.1 K \n",
      "---------------------------------\n",
      "2.1 K     Trainable params\n",
      "0         Non-trainable params\n",
      "2.1 K     Total params\n",
      "0.008     Total estimated model params size (MB)\n"
     ]
    },
    {
     "name": "stdout",
     "output_type": "stream",
     "text": [
      "Sanity Checking DataLoader 0:   0%|          | 0/1 [00:00<?, ?it/s]"
     ]
    },
    {
     "name": "stderr",
     "output_type": "stream",
     "text": [
      "/home/riccardo/anaconda3/envs/bayesian/lib/python3.12/site-packages/lightning/pytorch/trainer/connectors/data_connector.py:441: The 'val_dataloader' does not have many workers which may be a bottleneck. Consider increasing the value of the `num_workers` argument` to `num_workers=11` in the `DataLoader` to improve performance.\n"
     ]
    },
    {
     "name": "stdout",
     "output_type": "stream",
     "text": [
      "                                                                           "
     ]
    },
    {
     "name": "stderr",
     "output_type": "stream",
     "text": [
      "/home/riccardo/anaconda3/envs/bayesian/lib/python3.12/site-packages/lightning/pytorch/trainer/connectors/data_connector.py:441: The 'train_dataloader' does not have many workers which may be a bottleneck. Consider increasing the value of the `num_workers` argument` to `num_workers=11` in the `DataLoader` to improve performance.\n",
      "/home/riccardo/anaconda3/envs/bayesian/lib/python3.12/site-packages/lightning/pytorch/loops/fit_loop.py:298: The number of training batches (8) is smaller than the logging interval Trainer(log_every_n_steps=50). Set a lower value for log_every_n_steps if you want to see logs for the training epoch.\n"
     ]
    },
    {
     "name": "stdout",
     "output_type": "stream",
     "text": [
      "Epoch 0:  12%|█▎        | 1/8 [00:01<00:10,  0.67it/s, v_num=0]"
     ]
    },
    {
     "name": "stderr",
     "output_type": "stream",
     "text": [
      "/home/riccardo/anaconda3/envs/bayesian/lib/python3.12/site-packages/lightning/pytorch/loops/optimization/automatic.py:132: `training_step` returned `None`. If this was on purpose, ignore this warning...\n"
     ]
    },
    {
     "name": "stdout",
     "output_type": "stream",
     "text": [
      "Epoch 19: 100%|██████████| 8/8 [00:12<00:00,  0.66it/s, v_num=0]"
     ]
    },
    {
     "name": "stderr",
     "output_type": "stream",
     "text": [
      "`Trainer.fit` stopped: `max_epochs=20` reached.\n"
     ]
    },
    {
     "name": "stdout",
     "output_type": "stream",
     "text": [
      "Epoch 19: 100%|██████████| 8/8 [00:12<00:00,  0.65it/s, v_num=0]"
     ]
    },
    {
     "name": "stderr",
     "output_type": "stream",
     "text": [
      "[I 2024-03-04 14:30:14,964] Trial 0 finished with value: 12873508864.0 and parameters: {'lr': 0.0007199468657569009, 'prior_scale': 0.10225820217663267, 'q_scale': 0.07802701124751607, 'obs_scale': 0.25334807359648653}. Best is trial 0 with value: 12873508864.0.\n",
      "GPU available: False, used: False\n",
      "TPU available: False, using: 0 TPU cores\n",
      "IPU available: False, using: 0 IPUs\n",
      "HPU available: False, using: 0 HPUs\n"
     ]
    },
    {
     "name": "stdout",
     "output_type": "stream",
     "text": [
      "\n"
     ]
    },
    {
     "name": "stderr",
     "output_type": "stream",
     "text": [
      "\n",
      "  | Name | Type    | Params\n",
      "---------------------------------\n",
      "0 | net  | NetAtom | 2.1 K \n",
      "---------------------------------\n",
      "2.1 K     Trainable params\n",
      "0         Non-trainable params\n",
      "2.1 K     Total params\n",
      "0.008     Total estimated model params size (MB)\n"
     ]
    },
    {
     "name": "stdout",
     "output_type": "stream",
     "text": [
      "Epoch 19: 100%|██████████| 8/8 [00:11<00:00,  0.68it/s, v_num=1]           "
     ]
    },
    {
     "name": "stderr",
     "output_type": "stream",
     "text": [
      "`Trainer.fit` stopped: `max_epochs=20` reached.\n"
     ]
    },
    {
     "name": "stdout",
     "output_type": "stream",
     "text": [
      "Epoch 19: 100%|██████████| 8/8 [00:11<00:00,  0.68it/s, v_num=1]"
     ]
    },
    {
     "name": "stderr",
     "output_type": "stream",
     "text": [
      "[I 2024-03-04 14:35:01,978] Trial 1 finished with value: 172226225635328.0 and parameters: {'lr': 0.00019436469764910332, 'prior_scale': 1.2626126492131449, 'q_scale': 0.002430902419695284, 'obs_scale': 1.156716997950242}. Best is trial 0 with value: 12873508864.0.\n",
      "GPU available: False, used: False\n",
      "TPU available: False, using: 0 TPU cores\n",
      "IPU available: False, using: 0 IPUs\n",
      "HPU available: False, using: 0 HPUs\n"
     ]
    },
    {
     "name": "stdout",
     "output_type": "stream",
     "text": [
      "\n"
     ]
    },
    {
     "name": "stderr",
     "output_type": "stream",
     "text": [
      "\n",
      "  | Name | Type    | Params\n",
      "---------------------------------\n",
      "0 | net  | NetAtom | 2.1 K \n",
      "---------------------------------\n",
      "2.1 K     Trainable params\n",
      "0         Non-trainable params\n",
      "2.1 K     Total params\n",
      "0.008     Total estimated model params size (MB)\n"
     ]
    },
    {
     "name": "stdout",
     "output_type": "stream",
     "text": [
      "Epoch 19: 100%|██████████| 8/8 [00:11<00:00,  0.71it/s, v_num=2]           "
     ]
    },
    {
     "name": "stderr",
     "output_type": "stream",
     "text": [
      "`Trainer.fit` stopped: `max_epochs=20` reached.\n"
     ]
    },
    {
     "name": "stdout",
     "output_type": "stream",
     "text": [
      "Epoch 19: 100%|██████████| 8/8 [00:11<00:00,  0.71it/s, v_num=2]"
     ]
    },
    {
     "name": "stderr",
     "output_type": "stream",
     "text": [
      "[I 2024-03-04 14:39:46,743] Trial 2 finished with value: 2554800898048000.0 and parameters: {'lr': 0.0002601952086633604, 'prior_scale': 0.13765307977701544, 'q_scale': 0.006144291477574801, 'obs_scale': 3.9322959145371232}. Best is trial 0 with value: 12873508864.0.\n",
      "GPU available: False, used: False\n",
      "TPU available: False, using: 0 TPU cores\n",
      "IPU available: False, using: 0 IPUs\n",
      "HPU available: False, using: 0 HPUs\n"
     ]
    },
    {
     "name": "stdout",
     "output_type": "stream",
     "text": [
      "\n"
     ]
    },
    {
     "name": "stderr",
     "output_type": "stream",
     "text": [
      "\n",
      "  | Name | Type    | Params\n",
      "---------------------------------\n",
      "0 | net  | NetAtom | 2.1 K \n",
      "---------------------------------\n",
      "2.1 K     Trainable params\n",
      "0         Non-trainable params\n",
      "2.1 K     Total params\n",
      "0.008     Total estimated model params size (MB)\n"
     ]
    },
    {
     "name": "stdout",
     "output_type": "stream",
     "text": [
      "Epoch 19: 100%|██████████| 8/8 [00:11<00:00,  0.69it/s, v_num=3]           "
     ]
    },
    {
     "name": "stderr",
     "output_type": "stream",
     "text": [
      "`Trainer.fit` stopped: `max_epochs=20` reached.\n"
     ]
    },
    {
     "name": "stdout",
     "output_type": "stream",
     "text": [
      "Epoch 19: 100%|██████████| 8/8 [00:11<00:00,  0.69it/s, v_num=3]"
     ]
    },
    {
     "name": "stderr",
     "output_type": "stream",
     "text": [
      "[I 2024-03-04 14:44:22,915] Trial 3 finished with value: 1.1609295226698465e+18 and parameters: {'lr': 0.0007509964530488403, 'prior_scale': 0.5896561998318629, 'q_scale': 0.00011262290761080629, 'obs_scale': 2.2481811038893236}. Best is trial 0 with value: 12873508864.0.\n",
      "GPU available: False, used: False\n",
      "TPU available: False, using: 0 TPU cores\n",
      "IPU available: False, using: 0 IPUs\n",
      "HPU available: False, using: 0 HPUs\n"
     ]
    },
    {
     "name": "stdout",
     "output_type": "stream",
     "text": [
      "\n"
     ]
    },
    {
     "name": "stderr",
     "output_type": "stream",
     "text": [
      "\n",
      "  | Name | Type    | Params\n",
      "---------------------------------\n",
      "0 | net  | NetAtom | 2.1 K \n",
      "---------------------------------\n",
      "2.1 K     Trainable params\n",
      "0         Non-trainable params\n",
      "2.1 K     Total params\n",
      "0.008     Total estimated model params size (MB)\n"
     ]
    },
    {
     "name": "stdout",
     "output_type": "stream",
     "text": [
      "Epoch 19: 100%|██████████| 8/8 [00:11<00:00,  0.70it/s, v_num=4]           "
     ]
    },
    {
     "name": "stderr",
     "output_type": "stream",
     "text": [
      "`Trainer.fit` stopped: `max_epochs=20` reached.\n"
     ]
    },
    {
     "name": "stdout",
     "output_type": "stream",
     "text": [
      "Epoch 19: 100%|██████████| 8/8 [00:11<00:00,  0.70it/s, v_num=4]"
     ]
    },
    {
     "name": "stderr",
     "output_type": "stream",
     "text": [
      "[I 2024-03-04 14:49:07,377] Trial 4 finished with value: 5.0922983838957175e+19 and parameters: {'lr': 0.0004679098012769008, 'prior_scale': 0.22525628910529075, 'q_scale': 0.00024929633383857547, 'obs_scale': 4.109720020842615}. Best is trial 0 with value: 12873508864.0.\n",
      "GPU available: False, used: False\n",
      "TPU available: False, using: 0 TPU cores\n",
      "IPU available: False, using: 0 IPUs\n",
      "HPU available: False, using: 0 HPUs\n"
     ]
    },
    {
     "name": "stdout",
     "output_type": "stream",
     "text": [
      "\n"
     ]
    },
    {
     "name": "stderr",
     "output_type": "stream",
     "text": [
      "\n",
      "  | Name | Type    | Params\n",
      "---------------------------------\n",
      "0 | net  | NetAtom | 2.1 K \n",
      "---------------------------------\n",
      "2.1 K     Trainable params\n",
      "0         Non-trainable params\n",
      "2.1 K     Total params\n",
      "0.008     Total estimated model params size (MB)\n"
     ]
    },
    {
     "name": "stdout",
     "output_type": "stream",
     "text": [
      "Epoch 19: 100%|██████████| 8/8 [00:11<00:00,  0.69it/s, v_num=5]           "
     ]
    },
    {
     "name": "stderr",
     "output_type": "stream",
     "text": [
      "`Trainer.fit` stopped: `max_epochs=20` reached.\n"
     ]
    },
    {
     "name": "stdout",
     "output_type": "stream",
     "text": [
      "Epoch 19: 100%|██████████| 8/8 [00:11<00:00,  0.69it/s, v_num=5]"
     ]
    },
    {
     "name": "stderr",
     "output_type": "stream",
     "text": [
      "[I 2024-03-04 14:53:39,702] Trial 5 finished with value: 5.313508249382356e+23 and parameters: {'lr': 0.0005476261859273093, 'prior_scale': 0.6864277036138321, 'q_scale': 0.24231894856796715, 'obs_scale': 0.4881046582064587}. Best is trial 0 with value: 12873508864.0.\n",
      "GPU available: False, used: False\n",
      "TPU available: False, using: 0 TPU cores\n",
      "IPU available: False, using: 0 IPUs\n",
      "HPU available: False, using: 0 HPUs\n"
     ]
    },
    {
     "name": "stdout",
     "output_type": "stream",
     "text": [
      "\n"
     ]
    },
    {
     "name": "stderr",
     "output_type": "stream",
     "text": [
      "\n",
      "  | Name | Type    | Params\n",
      "---------------------------------\n",
      "0 | net  | NetAtom | 2.1 K \n",
      "---------------------------------\n",
      "2.1 K     Trainable params\n",
      "0         Non-trainable params\n",
      "2.1 K     Total params\n",
      "0.008     Total estimated model params size (MB)\n"
     ]
    },
    {
     "name": "stdout",
     "output_type": "stream",
     "text": [
      "Epoch 0: 100%|██████████| 8/8 [00:11<00:00,  0.67it/s, v_num=6]            "
     ]
    },
    {
     "name": "stderr",
     "output_type": "stream",
     "text": [
      "[I 2024-03-04 14:54:36,456] Trial 6 finished with value: 1.9695009880904376e+25 and parameters: {'lr': 0.000715226773082453, 'prior_scale': 0.852314908426756, 'q_scale': 0.003350174301426805, 'obs_scale': 0.9665357378833582}. Best is trial 0 with value: 12873508864.0.\n",
      "GPU available: False, used: False\n",
      "TPU available: False, using: 0 TPU cores\n",
      "IPU available: False, using: 0 IPUs\n",
      "HPU available: False, using: 0 HPUs\n"
     ]
    },
    {
     "name": "stdout",
     "output_type": "stream",
     "text": [
      "\n"
     ]
    },
    {
     "name": "stderr",
     "output_type": "stream",
     "text": [
      "\n",
      "  | Name | Type    | Params\n",
      "---------------------------------\n",
      "0 | net  | NetAtom | 2.1 K \n",
      "---------------------------------\n",
      "2.1 K     Trainable params\n",
      "0         Non-trainable params\n",
      "2.1 K     Total params\n",
      "0.008     Total estimated model params size (MB)\n"
     ]
    },
    {
     "name": "stdout",
     "output_type": "stream",
     "text": [
      "Epoch 0: 100%|██████████| 8/8 [00:11<00:00,  0.70it/s, v_num=7]            "
     ]
    },
    {
     "name": "stderr",
     "output_type": "stream",
     "text": [
      "[I 2024-03-04 14:55:28,608] Trial 7 finished with value: 6.757822134965293e+27 and parameters: {'lr': 0.0003025083904412125, 'prior_scale': 0.3697289978173995, 'q_scale': 1.0571798261831868, 'obs_scale': 0.6334874561840249}. Best is trial 0 with value: 12873508864.0.\n",
      "GPU available: False, used: False\n",
      "TPU available: False, using: 0 TPU cores\n",
      "IPU available: False, using: 0 IPUs\n",
      "HPU available: False, using: 0 HPUs\n"
     ]
    },
    {
     "name": "stdout",
     "output_type": "stream",
     "text": [
      "\n"
     ]
    },
    {
     "name": "stderr",
     "output_type": "stream",
     "text": [
      "\n",
      "  | Name | Type    | Params\n",
      "---------------------------------\n",
      "0 | net  | NetAtom | 2.1 K \n",
      "---------------------------------\n",
      "2.1 K     Trainable params\n",
      "0         Non-trainable params\n",
      "2.1 K     Total params\n",
      "0.008     Total estimated model params size (MB)\n"
     ]
    },
    {
     "name": "stdout",
     "output_type": "stream",
     "text": [
      "Epoch 0: 100%|██████████| 8/8 [00:12<00:00,  0.65it/s, v_num=8]            "
     ]
    },
    {
     "name": "stderr",
     "output_type": "stream",
     "text": [
      "[I 2024-03-04 14:56:33,814] Trial 8 finished with value: 2.7829328807587684e+29 and parameters: {'lr': 2.8930669898145903e-05, 'prior_scale': 0.11247446937748473, 'q_scale': 0.010763766109824777, 'obs_scale': 1.1889885105778863}. Best is trial 0 with value: 12873508864.0.\n",
      "GPU available: False, used: False\n",
      "TPU available: False, using: 0 TPU cores\n",
      "IPU available: False, using: 0 IPUs\n",
      "HPU available: False, using: 0 HPUs\n"
     ]
    },
    {
     "name": "stdout",
     "output_type": "stream",
     "text": [
      "\n"
     ]
    },
    {
     "ename": "",
     "evalue": "",
     "output_type": "error",
     "traceback": [
      "\u001b[1;31mThe Kernel crashed while executing code in the the current cell or a previous cell. Please review the code in the cell(s) to identify a possible cause of the failure. Click <a href='https://aka.ms/vscodeJupyterKernelCrash'>here</a> for more info. View Jupyter <a href='command:jupyter.viewOutput'>log</a> for further details."
     ]
    }
   ],
   "source": [
    "default_root_dir = '../examples/liquid_water/'\n",
    "\n",
    "def objective(trial: Trial, model_kwargs : dict, output_dir: str):\n",
    "    # model_kwargs['pretrain_epochs'] = trial.suggest_categorical(\n",
    "    #         \"pretrain_epochs\", [0, 5]\n",
    "    #     )\n",
    "    model_kwargs['lr'] = trial.suggest_float(\"lr\", 1e-5, 1e-3)\n",
    "    #model_kwargs['prior_loc'] = trial.suggest_float(\"prior_loc\", 0., 1., log=True)\n",
    "    model_kwargs['prior_scale'] = trial.suggest_float(\"prior_scale\", 0.1, 5, log=True)\n",
    "    model_kwargs['q_scale'] = trial.suggest_float(\"q_scale\", 1e-4, 5, log=True)\n",
    "    model_kwargs['obs_scale'] = trial.suggest_float(\"obs_scale\", 0.1, 5, log=True)\n",
    "\n",
    "    model = BNN(**model_kwargs)\n",
    "    trainer = L.Trainer(min_epochs = 1, max_epochs = 20, default_root_dir=default_root_dir, callbacks=early_stopping)\n",
    "    trainer.fit(model=model, datamodule=datamodele)\n",
    "\n",
    "    return trainer.callback_metrics['elbo/val'].item()\n",
    "\n",
    "study = optuna.create_study(study_name='bnn_hyperparams', storage=f\"sqlite:///{default_root_dir}/bnn_hparams_big.sqlite3\", directions=[\"minimize\"])\n",
    "study.optimize(\n",
    "        lambda trial: objective(trial, model_kwargs=model_kwargs, output_dir='optuna_log'),\n",
    "        n_trials=60,\n",
    "        timeout=None,\n",
    "        catch=(RuntimeError,),\n",
    "    )"
   ]
  },
  {
   "cell_type": "code",
   "execution_count": null,
   "metadata": {},
   "outputs": [],
   "source": []
  }
 ],
 "metadata": {
  "kernelspec": {
   "display_name": "bayesian",
   "language": "python",
   "name": "python3"
  },
  "language_info": {
   "codemirror_mode": {
    "name": "ipython",
    "version": 3
   },
   "file_extension": ".py",
   "mimetype": "text/x-python",
   "name": "python",
   "nbconvert_exporter": "python",
   "pygments_lexer": "ipython3",
   "version": "3.12.2"
  }
 },
 "nbformat": 4,
 "nbformat_minor": 2
}
