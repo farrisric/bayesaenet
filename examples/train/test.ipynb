{
 "cells": [
  {
   "cell_type": "code",
   "execution_count": 9,
   "metadata": {},
   "outputs": [
    {
     "name": "stdout",
     "output_type": "stream",
     "text": [
      "The autoreload extension is already loaded. To reload it, use:\n",
      "  %reload_ext autoreload\n"
     ]
    }
   ],
   "source": [
    "%load_ext autoreload\n",
    "\n",
    "%autoreload 2"
   ]
  },
  {
   "cell_type": "code",
   "execution_count": 10,
   "metadata": {},
   "outputs": [
    {
     "name": "stderr",
     "output_type": "stream",
     "text": [
      "Seed set to 143\n"
     ]
    },
    {
     "name": "stdout",
     "output_type": "stream",
     "text": [
      "tensor(-21.5543, dtype=torch.float64)\n"
     ]
    }
   ],
   "source": [
    "import sys\n",
    "sys.path.append('../')\n",
    "\n",
    "from bnn_aenet.datamodule.aenet_datamodule import AenetDataModule\n",
    "from torch.utils.data import random_split\n",
    "from lightning.pytorch import seed_everything\n",
    "\n",
    "seed_everything(143, workers=True)\n",
    "\n",
    "datamodule = AenetDataModule(data_dir='../data/PdO/train.in', batch_size=100, test_split=0.3, valid_split=0.3)\n",
    "\n",
    "print(datamodule.val_dataloader()[0][11][0])"
   ]
  },
  {
   "cell_type": "code",
   "execution_count": null,
   "metadata": {},
   "outputs": [],
   "source": [
    "print(datamodule.val_dataloader()[0][11])"
   ]
  },
  {
   "cell_type": "code",
   "execution_count": 17,
   "metadata": {},
   "outputs": [
    {
     "name": "stdout",
     "output_type": "stream",
     "text": [
      "4601\n"
     ]
    }
   ],
   "source": [
    "count = 0\n",
    "for batch in datamodule.val_dataloader():\n",
    "    count += len(batch[11])\n",
    "print(count)"
   ]
  },
  {
   "cell_type": "code",
   "execution_count": 6,
   "metadata": {},
   "outputs": [
    {
     "data": {
      "text/plain": [
       "([19,\n",
       "  95,\n",
       "  13,\n",
       "  22,\n",
       "  8,\n",
       "  44,\n",
       "  52,\n",
       "  93,\n",
       "  69,\n",
       "  75,\n",
       "  50,\n",
       "  14,\n",
       "  23,\n",
       "  60,\n",
       "  3,\n",
       "  87,\n",
       "  38,\n",
       "  99,\n",
       "  33,\n",
       "  37,\n",
       "  73,\n",
       "  91,\n",
       "  46,\n",
       "  31,\n",
       "  94,\n",
       "  49,\n",
       "  5,\n",
       "  97,\n",
       "  83,\n",
       "  48,\n",
       "  1,\n",
       "  57,\n",
       "  59,\n",
       "  17,\n",
       "  92,\n",
       "  42,\n",
       "  16,\n",
       "  39,\n",
       "  0,\n",
       "  4,\n",
       "  30,\n",
       "  25,\n",
       "  24,\n",
       "  56,\n",
       "  9,\n",
       "  53,\n",
       "  28,\n",
       "  32,\n",
       "  51,\n",
       "  77,\n",
       "  71,\n",
       "  64,\n",
       "  82,\n",
       "  15,\n",
       "  72,\n",
       "  68,\n",
       "  65,\n",
       "  96,\n",
       "  85,\n",
       "  62,\n",
       "  35,\n",
       "  86,\n",
       "  74,\n",
       "  81,\n",
       "  7,\n",
       "  79,\n",
       "  54,\n",
       "  67,\n",
       "  41,\n",
       "  47,\n",
       "  2,\n",
       "  20,\n",
       "  80,\n",
       "  90,\n",
       "  76,\n",
       "  55,\n",
       "  89,\n",
       "  66,\n",
       "  18,\n",
       "  61,\n",
       "  34,\n",
       "  21,\n",
       "  36,\n",
       "  6,\n",
       "  98],\n",
       " [70, 78, 40, 29, 45, 58, 10, 88, 43, 63],\n",
       " [84, 27, 11, 26, 12])"
      ]
     },
     "execution_count": 6,
     "metadata": {},
     "output_type": "execute_result"
    }
   ],
   "source": [
    "indices = list(range(100))\n",
    "train_indices, valid_indices, test_indices = random_split(\n",
    "    indices, [0.85, 0.10, 0.05]\n",
    "    )\n",
    "\n",
    "list(train_indices), list(valid_indices), list(test_indices)"
   ]
  },
  {
   "cell_type": "code",
   "execution_count": null,
   "metadata": {},
   "outputs": [],
   "source": []
  }
 ],
 "metadata": {
  "kernelspec": {
   "display_name": "bayesian",
   "language": "python",
   "name": "python3"
  },
  "language_info": {
   "codemirror_mode": {
    "name": "ipython",
    "version": 3
   },
   "file_extension": ".py",
   "mimetype": "text/x-python",
   "name": "python",
   "nbconvert_exporter": "python",
   "pygments_lexer": "ipython3",
   "version": "3.12.2"
  }
 },
 "nbformat": 4,
 "nbformat_minor": 2
}
